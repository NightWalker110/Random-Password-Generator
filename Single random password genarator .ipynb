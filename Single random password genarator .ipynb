{
 "cells": [
  {
   "cell_type": "code",
   "execution_count": 29,
   "metadata": {},
   "outputs": [
    {
     "name": "stdout",
     "output_type": "stream",
     "text": [
      "Your Random Generated password is : _4RcIE\n"
     ]
    }
   ],
   "source": [
    "import random\n",
    "\n",
    "l = \"abcdefghijklmnopqrstuvwxyz\"\n",
    "u = l.upper()\n",
    "n = \"0123456789\"\n",
    "s = \"+=-_?/!@#$\"\n",
    "\n",
    "all = l+u+n+s\n",
    "len = 6\n",
    "passw = \"\".join(random.sample(all,len))\n",
    "print(\"Your Random Generated password is : \"+passw)"
   ]
  }
 ],
 "metadata": {
  "kernelspec": {
   "display_name": "Python 3",
   "language": "python",
   "name": "python3"
  },
  "language_info": {
   "codemirror_mode": {
    "name": "ipython",
    "version": 3
   },
   "file_extension": ".py",
   "mimetype": "text/x-python",
   "name": "python",
   "nbconvert_exporter": "python",
   "pygments_lexer": "ipython3",
   "version": "3.8.5"
  }
 },
 "nbformat": 4,
 "nbformat_minor": 4
}
